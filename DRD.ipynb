{
 "cells": [
  {
   "cell_type": "code",
   "execution_count": 7,
   "id": "7d9753f9",
   "metadata": {},
   "outputs": [
    {
     "name": "stdout",
     "output_type": "stream",
     "text": [
      "WARNING:tensorflow:5 out of the last 6 calls to <function TensorFlowTrainer.make_predict_function.<locals>.one_step_on_data_distributed at 0x00000208206AAA20> triggered tf.function retracing. Tracing is expensive and the excessive number of tracings could be due to (1) creating @tf.function repeatedly in a loop, (2) passing tensors with different shapes, (3) passing Python objects instead of tensors. For (1), please define your @tf.function outside of the loop. For (2), @tf.function has reduce_retracing=True option that can avoid unnecessary retracing. For (3), please refer to https://www.tensorflow.org/guide/function#controlling_retracing and https://www.tensorflow.org/api_docs/python/tf/function for  more details.\n",
      "\u001b[1m1/1\u001b[0m \u001b[32m━━━━━━━━━━━━━━━━━━━━\u001b[0m\u001b[37m\u001b[0m \u001b[1m0s\u001b[0m 82ms/step\n"
     ]
    }
   ],
   "source": [
    "import tkinter as tk\n",
    "from tkinter import filedialog\n",
    "from PIL import Image, ImageTk\n",
    "import tensorflow as tf\n",
    "from tensorflow.keras.preprocessing.image import img_to_array, load_img\n",
    "import numpy as np\n",
    "\n",
    "class DragDropApp(tk.Tk):\n",
    "    def __init__(self):\n",
    "        super().__init__()\n",
    "\n",
    "        self.title(\"Diabetic Retinopathy Detection\")\n",
    "        self.geometry(\"600x600\")\n",
    "        self.configure(bg='#f0f0f0')\n",
    "\n",
    "        # Select Image Button\n",
    "        self.button = tk.Button(self, text=\"Select Image\", command=self.select_image)\n",
    "        self.button.pack(pady=20)\n",
    "\n",
    "        # Canvas for Image Display\n",
    "        self.canvas = tk.Canvas(self, width=400, height=400, bg=\"#ffffff\")\n",
    "        self.canvas.pack(pady=20)\n",
    "\n",
    "        # Label for Prediction Result\n",
    "        self.result_label = tk.Label(self, text=\"\", bg='#f0f0f0', font=(\"Arial\", 16))\n",
    "        self.result_label.pack(pady=20)\n",
    "\n",
    "        # Load Model\n",
    "        self.model = self.load_model()\n",
    "\n",
    "    def select_image(self):\n",
    "        file_path = filedialog.askopenfilename(filetypes=[(\"Image files\", \"*.jpg *.jpeg *.png *.gif\")])\n",
    "        if file_path:\n",
    "            self.display_image(file_path)\n",
    "            self.predict_image(file_path)\n",
    "\n",
    "    def display_image(self, file_path):\n",
    "        image = Image.open(file_path)\n",
    "        image.thumbnail((300, 300))\n",
    "        img = ImageTk.PhotoImage(image)\n",
    "\n",
    "        self.canvas.create_image(200, 200, image=img, anchor=tk.CENTER)\n",
    "        self.canvas.image = img  # Keep reference\n",
    "\n",
    "    def load_model(self):\n",
    "        # Create a simple CNN model\n",
    "        model = tf.keras.models.Sequential([\n",
    "            tf.keras.layers.Input(shape=(200, 200, 3)),\n",
    "            tf.keras.layers.Conv2D(32, (3, 3), activation='relu'),\n",
    "            tf.keras.layers.MaxPooling2D((2, 2)),\n",
    "            tf.keras.layers.Conv2D(64, (3, 3), activation='relu'),\n",
    "            tf.keras.layers.MaxPooling2D((2, 2)),\n",
    "            tf.keras.layers.Conv2D(128, (3, 3), activation='relu'),\n",
    "            tf.keras.layers.MaxPooling2D((2, 2)),\n",
    "            tf.keras.layers.Flatten(),\n",
    "            tf.keras.layers.Dense(128, activation='relu'),\n",
    "            tf.keras.layers.Dropout(0.5),\n",
    "            tf.keras.layers.Dense(5, activation='softmax')  # Softmax for multi-class classification\n",
    "        ])\n",
    "\n",
    "        model.compile(optimizer='adam', loss='categorical_crossentropy', metrics=['accuracy'])\n",
    "        return model\n",
    "\n",
    "    def predict_image(self, file_path):\n",
    "        img = load_img(file_path, target_size=(200, 200))\n",
    "        x = img_to_array(img)\n",
    "        x = np.expand_dims(x, axis=0)\n",
    "        x = x / 255.0  # Normalize\n",
    "\n",
    "        prediction = self.model.predict(x)\n",
    "        predicted_class = np.argmax(prediction, axis=1)[0]\n",
    "\n",
    "        result_text = self.get_prediction_text(predicted_class)\n",
    "        self.result_label.config(text=result_text)\n",
    "\n",
    "    def get_prediction_text(self, predicted_class):\n",
    "        categories = [\n",
    "            \"No Diabetic Retinopathy\",\n",
    "            \"Mild\",\n",
    "            \"Moderate\",\n",
    "            \"Severe\",\n",
    "            \"Proliferative Diabetic Retinopathy\"\n",
    "        ]\n",
    "        return categories[predicted_class]\n",
    "\n",
    "if __name__ == \"__main__\":\n",
    "    app = DragDropApp()\n",
    "    app.mainloop()\n"
   ]
  },
  {
   "cell_type": "code",
   "execution_count": 9,
   "id": "510287e0",
   "metadata": {},
   "outputs": [
    {
     "data": {
      "text/plain": [
       "'C:\\\\Users\\\\91948'"
      ]
     },
     "execution_count": 9,
     "metadata": {},
     "output_type": "execute_result"
    }
   ],
   "source": [
    "import os\n",
    "os.getcwd()"
   ]
  },
  {
   "cell_type": "code",
   "execution_count": null,
   "id": "7a0bded5",
   "metadata": {},
   "outputs": [],
   "source": []
  },
  {
   "cell_type": "code",
   "execution_count": null,
   "id": "e88d5a46",
   "metadata": {},
   "outputs": [],
   "source": []
  },
  {
   "cell_type": "code",
   "execution_count": null,
   "id": "3ce369f2",
   "metadata": {},
   "outputs": [],
   "source": []
  }
 ],
 "metadata": {
  "kernelspec": {
   "display_name": "Python 3 (ipykernel)",
   "language": "python",
   "name": "python3"
  },
  "language_info": {
   "codemirror_mode": {
    "name": "ipython",
    "version": 3
   },
   "file_extension": ".py",
   "mimetype": "text/x-python",
   "name": "python",
   "nbconvert_exporter": "python",
   "pygments_lexer": "ipython3",
   "version": "3.11.8"
  }
 },
 "nbformat": 4,
 "nbformat_minor": 5
}
